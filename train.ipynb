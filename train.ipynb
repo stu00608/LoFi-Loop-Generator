{
 "cells": [
  {
   "cell_type": "code",
   "execution_count": 1,
   "metadata": {},
   "outputs": [],
   "source": [
    "import os\n",
    "import pickle\n",
    "os.environ['TF_CPP_MIN_LOG_LEVEL'] = '1' \n",
    "import numpy as np\n",
    "from model import *\n",
    "from dataloader import *\n",
    "from tensorflow.keras.utils import to_categorical"
   ]
  },
  {
   "cell_type": "code",
   "execution_count": 2,
   "metadata": {},
   "outputs": [
    {
     "name": "stdout",
     "output_type": "stream",
     "text": [
      "Similar chords with 56-0.5-0\n",
      "56-0.5-1 0.984\n",
      "56-0.25-1#58-0.25-1 0.968\n",
      "59-0.25-1#58-0.25-1 0.942\n"
     ]
    }
   ],
   "source": [
    "dataset_path = \"data/loaded_dataset\"\n",
    "dataset = Dataset()\n",
    "sentences = None\n",
    "if os.path.exists(dataset_path):\n",
    "    with open(dataset_path, \"rb\") as f:\n",
    "        dataset = pickle.load(f)\n",
    "else:\n",
    "    dataset.load()\n",
    "    with open(dataset_path, \"wb\") as f:\n",
    "        pickle.dump(dataset, f)\n",
    "\n",
    "sentences = dataset.getConcatenatedTracks()\n",
    "beatdict = BeatDictionary(sentences)\n",
    "beatdict.get_related_chords('56-0.5-0')"
   ]
  },
  {
   "cell_type": "code",
   "execution_count": 3,
   "metadata": {},
   "outputs": [
    {
     "name": "stdout",
     "output_type": "stream",
     "text": [
      "(23174, 1, 100) (23174, 1360)\n"
     ]
    }
   ],
   "source": [
    "x_train, y_train = dataset.getSingleTrackTrainingData(track=0)\n",
    "\n",
    "x_train = np.array([beatdict.vectorize(beat.tolist()) for beat in x_train])\n",
    "\n",
    "y_train = beatdict.beat2index(y_train)\n",
    "y_train = to_categorical(y_train, num_classes=beatdict.getDictSize())\n",
    "\n",
    "print(x_train.shape, y_train.shape)"
   ]
  },
  {
   "cell_type": "code",
   "execution_count": 4,
   "metadata": {},
   "outputs": [
    {
     "name": "stdout",
     "output_type": "stream",
     "text": [
      "Model: \"sequential\"\n",
      "_________________________________________________________________\n",
      "Layer (type)                 Output Shape              Param #   \n",
      "=================================================================\n",
      "lstm (LSTM)                  (None, 1, 256)            365568    \n",
      "_________________________________________________________________\n",
      "lstm_1 (LSTM)                (None, 1, 512)            1574912   \n",
      "_________________________________________________________________\n",
      "dropout (Dropout)            (None, 1, 512)            0         \n",
      "_________________________________________________________________\n",
      "lstm_2 (LSTM)                (None, 512)               2099200   \n",
      "_________________________________________________________________\n",
      "batch_normalization (BatchNo (None, 512)               2048      \n",
      "_________________________________________________________________\n",
      "dropout_1 (Dropout)          (None, 512)               0         \n",
      "_________________________________________________________________\n",
      "dense (Dense)                (None, 256)               131328    \n",
      "_________________________________________________________________\n",
      "batch_normalization_1 (Batch (None, 256)               1024      \n",
      "_________________________________________________________________\n",
      "dropout_2 (Dropout)          (None, 256)               0         \n",
      "_________________________________________________________________\n",
      "dense_1 (Dense)              (None, 1360)              349520    \n",
      "=================================================================\n",
      "Total params: 4,523,600\n",
      "Trainable params: 4,522,064\n",
      "Non-trainable params: 1,536\n",
      "_________________________________________________________________\n"
     ]
    }
   ],
   "source": [
    "model = LoFiLoopNet(\"dev\", x_train.shape[1:], beatdict.getDictSize())\n",
    "model.summary()"
   ]
  },
  {
   "cell_type": "markdown",
   "metadata": {},
   "source": [
    "# Training"
   ]
  },
  {
   "cell_type": "code",
   "execution_count": null,
   "metadata": {},
   "outputs": [],
   "source": [
    "model.train(x_train, y_train)"
   ]
  },
  {
   "cell_type": "code",
   "execution_count": null,
   "metadata": {},
   "outputs": [],
   "source": [
    "sequence = model.generate(dataset, beatdict)\n",
    "new_midi = MidiData()\n",
    "new_midi.decode(sequence, filename='workflow_test4.mid')"
   ]
  },
  {
   "cell_type": "markdown",
   "metadata": {},
   "source": [
    "# Inference"
   ]
  },
  {
   "cell_type": "code",
   "execution_count": 5,
   "metadata": {},
   "outputs": [
    {
     "name": "stdout",
     "output_type": "stream",
     "text": [
      "Loaded weight models/model-best.h5\n"
     ]
    }
   ],
   "source": [
    "model.load_weights(\"models/model-best.h5\")"
   ]
  },
  {
   "cell_type": "code",
   "execution_count": null,
   "metadata": {},
   "outputs": [],
   "source": [
    "sequence = model.generate(dataset, beatdict, topn=1)\n",
    "new_midi = MidiData()\n",
    "new_midi.decode(sequence, filename='exp.mid')"
   ]
  },
  {
   "cell_type": "code",
   "execution_count": 16,
   "metadata": {},
   "outputs": [
    {
     "name": "stdout",
     "output_type": "stream",
     "text": [
      "[  2 143  20  10   3]\n",
      "[   0 1360]\n"
     ]
    },
    {
     "data": {
      "image/png": "[encoded data removed]",
      "text/plain": [
       "<Figure size 432x288 with 1 Axes>"
      ]
     },
     "metadata": {
      "needs_background": "light"
     },
     "output_type": "display_data"
    }
   ],
   "source": [
    "import matplotlib.pyplot as plt\n",
    "import random\n",
    "from tqdm import tqdm\n",
    "\n",
    "def predictAndPlot(beat, topn=1):\n",
    "    pred, pred_beat = model.predict(beatdict, beat)\n",
    "\n",
    "    topn = np.argsort(pred, axis=1)[:,-topn:][0]\n",
    "    topn = np.flip(topn, 0)\n",
    "\n",
    "    print(topn)\n",
    "\n",
    "    # return topn\n",
    "\n",
    "    window = 2000\n",
    "    bound = [topn[0] - window, topn[0] + window]\n",
    "    bound = np.clip(bound, 0, len(beatdict.vector_dict))\n",
    "\n",
    "    print(bound)\n",
    "\n",
    "    title = ''\n",
    "    for index, candidate in enumerate(topn):\n",
    "        target = beatdict.vector_dict[candidate]\n",
    "        target_prob = round(float(pred[0, candidate]), 3)\n",
    "        title += f'({index+1}) [{candidate}] {target} : {target_prob} \\n'\n",
    "\n",
    "\n",
    "    f, ax = plt.subplots(1)\n",
    "    # ax.bar(range(bound[1]-bound[0]), pred[0, bound[0]:bound[1]])\n",
    "    ax.plot(range(bound[1]-bound[0]), pred[0, bound[0]:bound[1]])\n",
    "    ax.set_xlim(left=bound[0], right=bound[1])\n",
    "    plt.title(f\"{beat} -> {pred_beat} \\n {title}\")\n",
    "    plt.show(f)\n",
    "\n",
    "pick = random.sample(beatdict.vector_dict, 1)[0]\n",
    "predictAndPlot(pick, topn=5)\n",
    "\n",
    "# top_candidate_for_each_beat = []\n",
    "# for beat in tqdm(beatdict.vector_dict):\n",
    "#     topn = predictAndPlot(beat)\n",
    "#     top_candidate_for_each_beat.append(topn[0])\n",
    "\n",
    "# plt.bar(range(len(beatdict.vector_dict)), top_candidate_for_each_beat)\n",
    "# plt.show()\n",
    "\n"
   ]
  },
  {
   "cell_type": "code",
   "execution_count": null,
   "metadata": {},
   "outputs": [],
   "source": [
    "random.sample([10], 1)"
   ]
  },
  {
   "cell_type": "code",
   "execution_count": null,
   "metadata": {},
   "outputs": [],
   "source": []
  },
  {
   "cell_type": "code",
   "execution_count": null,
   "metadata": {},
   "outputs": [],
   "source": [
    "print(dataset.pitch_range_list)"
   ]
  },
  {
   "cell_type": "code",
   "execution_count": null,
   "metadata": {},
   "outputs": [],
   "source": [
    "model = LoFiLoopNet()\n",
    "model.train(x_train, y_train)\n",
    "model.plot()"
   ]
  },
  {
   "cell_type": "code",
   "execution_count": null,
   "metadata": {},
   "outputs": [],
   "source": [
    "model = LoFiLoopNet()\n",
    "model.load_last_weight()"
   ]
  },
  {
   "cell_type": "code",
   "execution_count": null,
   "metadata": {},
   "outputs": [],
   "source": [
    "model.generate(dataset)"
   ]
  }
 ],
 "metadata": {
  "kernelspec": {
   "display_name": "Python 3.6.9 ('lofi')",
   "language": "python",
   "name": "python3"
  },
  "language_info": {
   "codemirror_mode": {
    "name": "ipython",
    "version": 3
   },
   "file_extension": ".py",
   "mimetype": "text/x-python",
   "name": "python",
   "nbconvert_exporter": "python",
   "pygments_lexer": "ipython3",
   "version": "3.6.9"
  },
  "orig_nbformat": 4,
  "vscode": {
   "interpreter": {
    "hash": "af42d6b00596c858df57cfb1e3d56019ad36764fdda4c39cb12fa72d6aaee7c1"
   }
  }
 },
 "nbformat": 4,
 "nbformat_minor": 2
}
