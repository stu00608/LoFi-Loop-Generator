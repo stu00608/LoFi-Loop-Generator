{
 "cells": [
  {
   "cell_type": "code",
   "execution_count": 1,
   "metadata": {},
   "outputs": [],
   "source": [
    "import os\n",
    "os.environ['TF_CPP_MIN_LOG_LEVEL'] = '1' \n",
    "import numpy as np\n",
    "import pandas as pd\n",
    "from glob import glob\n",
    "import seaborn as sns\n",
    "import matplotlib.pyplot as plt\n",
    "import random\n",
    "import yaml\n",
    "from tensorflow.keras.models import load_model\n",
    "from midi_processing import *\n",
    "from model import *\n",
    "from dataloader import *\n",
    "# TODO: Implement wandb"
   ]
  },
  {
   "cell_type": "code",
   "execution_count": 2,
   "metadata": {},
   "outputs": [],
   "source": [
    "config = yaml.safe_load(open('config.yaml', 'r'))"
   ]
  },
  {
   "cell_type": "code",
   "execution_count": 3,
   "metadata": {},
   "outputs": [
    {
     "name": "stdout",
     "output_type": "stream",
     "text": [
      "Loading data from disk.\n"
     ]
    },
    {
     "name": "stderr",
     "output_type": "stream",
     "text": [
      "100%|██████████| 500/500 [00:03<00:00, 137.97it/s]\n"
     ]
    },
    {
     "name": "stdout",
     "output_type": "stream",
     "text": [
      "Encoding data.\n"
     ]
    },
    {
     "name": "stderr",
     "output_type": "stream",
     "text": [
      "100%|██████████| 500/500 [00:04<00:00, 113.25it/s]\n"
     ]
    }
   ],
   "source": [
    "dataset = Dataset()\n",
    "dataset.run()\n",
    "\n",
    "x_train, y_train = dataset.get_train_data()"
   ]
  },
  {
   "cell_type": "code",
   "execution_count": 4,
   "metadata": {},
   "outputs": [
    {
     "name": "stdout",
     "output_type": "stream",
     "text": [
      "[[54, 81], [54, 81], [47, 81], [36, 81]]\n"
     ]
    }
   ],
   "source": [
    "print(dataset.pitch_range_list)"
   ]
  },
  {
   "cell_type": "code",
   "execution_count": 5,
   "metadata": {},
   "outputs": [
    {
     "name": "stderr",
     "output_type": "stream",
     "text": [
      "2022-04-10 01:57:40.061229: W tensorflow/core/framework/cpu_allocator_impl.cc:80] Allocation of 188888000 exceeds 10% of free system memory.\n"
     ]
    },
    {
     "name": "stdout",
     "output_type": "stream",
     "text": [
      "Epoch 1/50\n",
      "369/369 [==============================] - 3s 3ms/step - loss: 3.6244 - accuracy: 0.1313\n",
      "Epoch 2/50\n",
      "369/369 [==============================] - 1s 3ms/step - loss: 2.6256 - accuracy: 0.3135\n",
      "Epoch 3/50\n",
      "369/369 [==============================] - 1s 3ms/step - loss: 2.3501 - accuracy: 0.3787\n",
      "Epoch 4/50\n",
      "369/369 [==============================] - 1s 3ms/step - loss: 2.2418 - accuracy: 0.3943\n",
      "Epoch 5/50\n",
      "369/369 [==============================] - 1s 3ms/step - loss: 2.1437 - accuracy: 0.4101\n",
      "Epoch 6/50\n",
      "369/369 [==============================] - 1s 3ms/step - loss: 2.0637 - accuracy: 0.4234\n",
      "Epoch 7/50\n",
      "369/369 [==============================] - 1s 3ms/step - loss: 1.9862 - accuracy: 0.4411\n",
      "Epoch 8/50\n",
      "369/369 [==============================] - 1s 3ms/step - loss: 1.8882 - accuracy: 0.4555\n",
      "Epoch 9/50\n",
      "369/369 [==============================] - 1s 3ms/step - loss: 1.8238 - accuracy: 0.4693\n",
      "Epoch 10/50\n",
      "369/369 [==============================] - 1s 3ms/step - loss: 1.7174 - accuracy: 0.4875\n",
      "Epoch 11/50\n",
      "369/369 [==============================] - 1s 3ms/step - loss: 1.5965 - accuracy: 0.5212\n",
      "Epoch 12/50\n",
      "369/369 [==============================] - 1s 3ms/step - loss: 1.4480 - accuracy: 0.5538\n",
      "Epoch 13/50\n",
      "369/369 [==============================] - 1s 3ms/step - loss: 1.2560 - accuracy: 0.6083\n",
      "Epoch 14/50\n",
      "369/369 [==============================] - 1s 3ms/step - loss: 1.0555 - accuracy: 0.6638\n",
      "Epoch 15/50\n",
      "369/369 [==============================] - 1s 3ms/step - loss: 0.8542 - accuracy: 0.7312\n",
      "Epoch 16/50\n",
      "369/369 [==============================] - 1s 3ms/step - loss: 0.6385 - accuracy: 0.8009\n",
      "Epoch 17/50\n",
      "369/369 [==============================] - 1s 3ms/step - loss: 0.4533 - accuracy: 0.8597\n",
      "Epoch 18/50\n",
      "369/369 [==============================] - 1s 3ms/step - loss: 0.3174 - accuracy: 0.9060\n",
      "Epoch 19/50\n",
      "369/369 [==============================] - 1s 3ms/step - loss: 0.2075 - accuracy: 0.9469\n",
      "Epoch 20/50\n",
      "369/369 [==============================] - 1s 3ms/step - loss: 0.1398 - accuracy: 0.9679\n",
      "Epoch 21/50\n",
      "369/369 [==============================] - 1s 3ms/step - loss: 0.1056 - accuracy: 0.9777\n",
      "Epoch 22/50\n",
      "369/369 [==============================] - 1s 3ms/step - loss: 0.0956 - accuracy: 0.9807\n",
      "Epoch 23/50\n",
      "369/369 [==============================] - 1s 3ms/step - loss: 0.0829 - accuracy: 0.9810\n",
      "Epoch 24/50\n",
      "369/369 [==============================] - 1s 3ms/step - loss: 0.1147 - accuracy: 0.9707\n",
      "Epoch 25/50\n",
      "369/369 [==============================] - 1s 3ms/step - loss: 0.1058 - accuracy: 0.9729\n",
      "Epoch 26/50\n",
      "369/369 [==============================] - 1s 3ms/step - loss: 0.0728 - accuracy: 0.9843\n",
      "Epoch 27/50\n",
      "369/369 [==============================] - 1s 3ms/step - loss: 0.0595 - accuracy: 0.9870\n",
      "Epoch 28/50\n",
      "369/369 [==============================] - 1s 3ms/step - loss: 0.0446 - accuracy: 0.9911\n",
      "Epoch 29/50\n",
      "369/369 [==============================] - 1s 3ms/step - loss: 0.0491 - accuracy: 0.9885\n",
      "Epoch 30/50\n",
      "369/369 [==============================] - 1s 3ms/step - loss: 0.1121 - accuracy: 0.9686\n",
      "Epoch 31/50\n",
      "369/369 [==============================] - 1s 3ms/step - loss: 0.0864 - accuracy: 0.9766\n",
      "Epoch 32/50\n",
      "369/369 [==============================] - 1s 3ms/step - loss: 0.0418 - accuracy: 0.9904\n",
      "Epoch 33/50\n",
      "369/369 [==============================] - 1s 3ms/step - loss: 0.0390 - accuracy: 0.9912\n",
      "Epoch 34/50\n",
      "369/369 [==============================] - 1s 3ms/step - loss: 0.0493 - accuracy: 0.9889\n",
      "Epoch 35/50\n",
      "369/369 [==============================] - 1s 3ms/step - loss: 0.0739 - accuracy: 0.9788\n",
      "Epoch 36/50\n",
      "369/369 [==============================] - 1s 3ms/step - loss: 0.0585 - accuracy: 0.9838\n",
      "Epoch 37/50\n",
      "369/369 [==============================] - 1s 3ms/step - loss: 0.0548 - accuracy: 0.9852\n",
      "Epoch 38/50\n",
      "369/369 [==============================] - 1s 3ms/step - loss: 0.0461 - accuracy: 0.9876\n",
      "Epoch 39/50\n",
      "369/369 [==============================] - 1s 3ms/step - loss: 0.0469 - accuracy: 0.9880\n",
      "Epoch 40/50\n",
      "369/369 [==============================] - 1s 3ms/step - loss: 0.0417 - accuracy: 0.9891\n",
      "Epoch 41/50\n",
      "369/369 [==============================] - 1s 3ms/step - loss: 0.0367 - accuracy: 0.9911\n",
      "Epoch 42/50\n",
      "369/369 [==============================] - 1s 3ms/step - loss: 0.0659 - accuracy: 0.9797\n",
      "Epoch 43/50\n",
      "369/369 [==============================] - 1s 3ms/step - loss: 0.0616 - accuracy: 0.9817\n",
      "Epoch 44/50\n",
      "369/369 [==============================] - 1s 3ms/step - loss: 0.0448 - accuracy: 0.9872\n",
      "Epoch 45/50\n",
      "369/369 [==============================] - 1s 3ms/step - loss: 0.0321 - accuracy: 0.9908\n",
      "Epoch 46/50\n",
      "369/369 [==============================] - 1s 3ms/step - loss: 0.0256 - accuracy: 0.9935\n",
      "Epoch 47/50\n",
      "369/369 [==============================] - 1s 3ms/step - loss: 0.0238 - accuracy: 0.9937\n",
      "Epoch 48/50\n",
      "369/369 [==============================] - 1s 3ms/step - loss: 0.0439 - accuracy: 0.9876\n",
      "Epoch 49/50\n",
      "369/369 [==============================] - 1s 3ms/step - loss: 0.0623 - accuracy: 0.9818\n",
      "Epoch 50/50\n",
      "369/369 [==============================] - 1s 3ms/step - loss: 0.0464 - accuracy: 0.9859\n"
     ]
    },
    {
     "data": {
      "image/png": "[encoded data removed]",
      "text/plain": [
       "<Figure size 1080x288 with 1 Axes>"
      ]
     },
     "metadata": {},
     "output_type": "display_data"
    }
   ],
   "source": [
    "model = LoFiLoopNet()\n",
    "model.train(x_train, y_train)\n",
    "model.plot()"
   ]
  },
  {
   "cell_type": "code",
   "execution_count": 6,
   "metadata": {},
   "outputs": [
    {
     "name": "stdout",
     "output_type": "stream",
     "text": [
      "Loaded weight model_04-10_01-57_4.hdf5\n"
     ]
    }
   ],
   "source": [
    "model = LoFiLoopNet()\n",
    "model.load_last_weight()"
   ]
  },
  {
   "cell_type": "code",
   "execution_count": 7,
   "metadata": {},
   "outputs": [
    {
     "name": "stdout",
     "output_type": "stream",
     "text": [
      "['72-23#0-1', '72-24', '70-24', '72-24', '73-24', '72-23#0-1', '72-24', '72-24', '70-23#0-1', '70-24']\n"
     ]
    }
   ],
   "source": [
    "model.generate(dataset)"
   ]
  }
 ],
 "metadata": {
  "interpreter": {
   "hash": "49df5ff4a6ba4bb9d2ddca8074f5634ee6d89cf9b3a0514151aa539bb156f8f7"
  },
  "kernelspec": {
   "display_name": "Python 3.8.12 ('ml')",
   "language": "python",
   "name": "python3"
  },
  "language_info": {
   "codemirror_mode": {
    "name": "ipython",
    "version": 3
   },
   "file_extension": ".py",
   "mimetype": "text/x-python",
   "name": "python",
   "nbconvert_exporter": "python",
   "pygments_lexer": "ipython3",
   "version": "3.8.12"
  },
  "orig_nbformat": 4
 },
 "nbformat": 4,
 "nbformat_minor": 2
}
