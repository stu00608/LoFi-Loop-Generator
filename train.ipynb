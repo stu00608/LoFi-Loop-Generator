{
 "cells": [
  {
   "cell_type": "code",
   "execution_count": 1,
   "metadata": {},
   "outputs": [
    {
     "name": "stderr",
     "output_type": "stream",
     "text": [
      "2022-04-08 19:47:34.901729: I tensorflow/stream_executor/platform/default/dso_loader.cc:49] Successfully opened dynamic library libcudart.so.11.0\n",
      "2022-04-08 19:47:35.744034: I tensorflow/compiler/jit/xla_cpu_device.cc:41] Not creating XLA devices, tf_xla_enable_xla_devices not set\n",
      "2022-04-08 19:47:35.744571: I tensorflow/stream_executor/platform/default/dso_loader.cc:49] Successfully opened dynamic library libcuda.so.1\n",
      "2022-04-08 19:47:35.770608: I tensorflow/stream_executor/cuda/cuda_gpu_executor.cc:941] successful NUMA node read from SysFS had negative value (-1), but there must be at least one NUMA node, so returning NUMA node zero\n",
      "2022-04-08 19:47:35.770918: I tensorflow/core/common_runtime/gpu/gpu_device.cc:1720] Found device 0 with properties: \n",
      "pciBusID: 0000:01:00.0 name: NVIDIA GeForce GTX 1080 Ti computeCapability: 6.1\n",
      "coreClock: 1.683GHz coreCount: 28 deviceMemorySize: 10.91GiB deviceMemoryBandwidth: 451.17GiB/s\n",
      "2022-04-08 19:47:35.770947: I tensorflow/stream_executor/platform/default/dso_loader.cc:49] Successfully opened dynamic library libcudart.so.11.0\n",
      "2022-04-08 19:47:35.772524: I tensorflow/stream_executor/platform/default/dso_loader.cc:49] Successfully opened dynamic library libcublas.so.11\n",
      "2022-04-08 19:47:35.772563: I tensorflow/stream_executor/platform/default/dso_loader.cc:49] Successfully opened dynamic library libcublasLt.so.11\n",
      "2022-04-08 19:47:35.773201: I tensorflow/stream_executor/platform/default/dso_loader.cc:49] Successfully opened dynamic library libcufft.so.10\n",
      "2022-04-08 19:47:35.773355: I tensorflow/stream_executor/platform/default/dso_loader.cc:49] Successfully opened dynamic library libcurand.so.10\n",
      "2022-04-08 19:47:35.775003: I tensorflow/stream_executor/platform/default/dso_loader.cc:49] Successfully opened dynamic library libcusolver.so.10\n",
      "2022-04-08 19:47:35.775380: I tensorflow/stream_executor/platform/default/dso_loader.cc:49] Successfully opened dynamic library libcusparse.so.11\n",
      "2022-04-08 19:47:35.775470: I tensorflow/stream_executor/platform/default/dso_loader.cc:49] Successfully opened dynamic library libcudnn.so.8\n",
      "2022-04-08 19:47:35.775552: I tensorflow/stream_executor/cuda/cuda_gpu_executor.cc:941] successful NUMA node read from SysFS had negative value (-1), but there must be at least one NUMA node, so returning NUMA node zero\n",
      "2022-04-08 19:47:35.775891: I tensorflow/stream_executor/cuda/cuda_gpu_executor.cc:941] successful NUMA node read from SysFS had negative value (-1), but there must be at least one NUMA node, so returning NUMA node zero\n",
      "2022-04-08 19:47:35.776165: I tensorflow/core/common_runtime/gpu/gpu_device.cc:1862] Adding visible gpu devices: 0\n"
     ]
    }
   ],
   "source": [
    "import numpy as np\n",
    "import pandas as pd\n",
    "from glob import glob\n",
    "import os\n",
    "import seaborn as sns\n",
    "import matplotlib.pyplot as plt\n",
    "import random\n",
    "import yaml\n",
    "from utils import *\n",
    "from midi_processing import *\n",
    "from model import *\n",
    "\n",
    "# TODO: Implement wandb"
   ]
  },
  {
   "cell_type": "code",
   "execution_count": 2,
   "metadata": {},
   "outputs": [],
   "source": [
    "config = yaml.safe_load(open('config.yaml', 'r'))\n",
    "\n",
    "RESOLUTION = 24\n",
    "MAX_PITCH = 128\n",
    "MIN_PITCH = 0\n",
    "INTENSITY = 90\n",
    "VOCAB_SIZE = 200\n",
    "PATH_TO_MIDI = os.path.expanduser(os.path.join('~', 'Repositories', 'js-fakes', 'midi', '*.mid'))"
   ]
  },
  {
   "cell_type": "code",
   "execution_count": 3,
   "metadata": {},
   "outputs": [
    {
     "name": "stdout",
     "output_type": "stream",
     "text": [
      "Pitch range = [36, 81]\n"
     ]
    }
   ],
   "source": [
    "midi_path_list = glob(config['path']['data_dir'])\n",
    "\n",
    "# Get the upper and lower bound of pitches.\n",
    "# TODO: Split it to each track.\n",
    "pitch_range = [MAX_PITCH, MIN_PITCH]\n",
    "for file in midi_path_list:\n",
    "    midi = pypianoroll.read(file, resolution=config['params']['resolution'])\n",
    "\n",
    "    for track in midi.tracks:\n",
    "        new_range = pypianoroll.pitch_range_tuple(track.pianoroll)\n",
    "        # print(new_range)\n",
    "        pitch_range = [min(new_range[0], pitch_range[0]), max(new_range[1], pitch_range[1])]\n",
    "    \n",
    "print(f\"Pitch range = {pitch_range}\")"
   ]
  },
  {
   "cell_type": "code",
   "execution_count": 4,
   "metadata": {},
   "outputs": [],
   "source": [
    "# Read data from disk.\n",
    "\n",
    "padding_value = f\"0-{config['params']['resolution']}\"\n",
    "\n",
    "encoded_dataset = [[padding_value], [padding_value], [padding_value], [padding_value]] \n",
    "\n",
    "for file in midi_path_list:\n",
    "    \n",
    "    # TODO: Optimize the structure.\n",
    "    midi = pypianoroll.read(file, resolution=config['params']['resolution'])\n",
    "    bin_midi = midi.binarize()\n",
    "    encoded_tracks = []\n",
    "    for index, track in enumerate(bin_midi.tracks):\n",
    "        pr = track.pianoroll.astype('int')\n",
    "        encoded_pianorolls = []\n",
    "        for i in range(0, len(pr)//config['params']['resolution']-1):\n",
    "            encoded_pianorolls.append(beat_encode(pr[config['params']['resolution']*i:config['params']['resolution']*(i+1)]))\n",
    "        \n",
    "        # NOTE: Add a padding beat\n",
    "        encoded_pianorolls.append(padding_value)\n",
    "\n",
    "        encoded_dataset[index] += encoded_pianorolls\n",
    "        \n",
    "        encoded_tracks.append(encoded_pianorolls)\n",
    "\n",
    "    encoded_tracks = np.array(encoded_tracks)\n",
    "\n",
    "encoded_dataset = np.array(encoded_dataset)\n",
    "\n",
    "# print(encoded_dataset.shape)"
   ]
  },
  {
   "cell_type": "code",
   "execution_count": 5,
   "metadata": {},
   "outputs": [
    {
     "name": "stdout",
     "output_type": "stream",
     "text": [
      "(23601, 20, 200)\n",
      "(23601, 200)\n"
     ]
    }
   ],
   "source": [
    "dev_encoded_string = \",\".join(encoded_dataset[0])\n",
    "dev_encoded_data = [dev_encoded_string]\n",
    "\n",
    "tokenizer = Tokenizer(num_words=config['params']['vocab_size'], split=',', filters='')\n",
    "tokenizer.fit_on_texts(dev_encoded_data)\n",
    "word_index = tokenizer.word_index\n",
    "train_data = tokenizer.texts_to_sequences(dev_encoded_data)\n",
    "train_data = to_categorical(train_data)\n",
    "train_data = np.array(train_data).reshape(train_data.shape[1:])\n",
    "# print(train_data.shape)\n",
    "\n",
    "\n",
    "data_size = 20 # Take 10 beats to predict the next (11th) beat.\n",
    "x_train = []\n",
    "y_train = []\n",
    "for i in range(train_data.shape[0]-data_size):\n",
    "    x_train.append(train_data[i:i+data_size, :])\n",
    "    y_train.append(train_data[i+data_size, :])\n",
    "\n",
    "x_train = np.array(x_train)\n",
    "y_train = np.array(y_train)\n",
    "\n",
    "print(x_train.shape)\n",
    "print(y_train.shape)\n"
   ]
  },
  {
   "cell_type": "code",
   "execution_count": 6,
   "metadata": {},
   "outputs": [
    {
     "name": "stderr",
     "output_type": "stream",
     "text": [
      "2022-04-08 19:47:59.949628: I tensorflow/compiler/jit/xla_gpu_device.cc:99] Not creating XLA devices, tf_xla_enable_xla_devices not set\n",
      "2022-04-08 19:47:59.949851: I tensorflow/stream_executor/cuda/cuda_gpu_executor.cc:941] successful NUMA node read from SysFS had negative value (-1), but there must be at least one NUMA node, so returning NUMA node zero\n",
      "2022-04-08 19:47:59.950329: I tensorflow/core/common_runtime/gpu/gpu_device.cc:1720] Found device 0 with properties: \n",
      "pciBusID: 0000:01:00.0 name: NVIDIA GeForce GTX 1080 Ti computeCapability: 6.1\n",
      "coreClock: 1.683GHz coreCount: 28 deviceMemorySize: 10.91GiB deviceMemoryBandwidth: 451.17GiB/s\n",
      "2022-04-08 19:47:59.950409: I tensorflow/stream_executor/platform/default/dso_loader.cc:49] Successfully opened dynamic library libcudart.so.11.0\n",
      "2022-04-08 19:47:59.950445: I tensorflow/stream_executor/platform/default/dso_loader.cc:49] Successfully opened dynamic library libcublas.so.11\n",
      "2022-04-08 19:47:59.950469: I tensorflow/stream_executor/platform/default/dso_loader.cc:49] Successfully opened dynamic library libcublasLt.so.11\n",
      "2022-04-08 19:47:59.950493: I tensorflow/stream_executor/platform/default/dso_loader.cc:49] Successfully opened dynamic library libcufft.so.10\n",
      "2022-04-08 19:47:59.950516: I tensorflow/stream_executor/platform/default/dso_loader.cc:49] Successfully opened dynamic library libcurand.so.10\n",
      "2022-04-08 19:47:59.950539: I tensorflow/stream_executor/platform/default/dso_loader.cc:49] Successfully opened dynamic library libcusolver.so.10\n",
      "2022-04-08 19:47:59.950561: I tensorflow/stream_executor/platform/default/dso_loader.cc:49] Successfully opened dynamic library libcusparse.so.11\n",
      "2022-04-08 19:47:59.950584: I tensorflow/stream_executor/platform/default/dso_loader.cc:49] Successfully opened dynamic library libcudnn.so.8\n",
      "2022-04-08 19:47:59.950683: I tensorflow/stream_executor/cuda/cuda_gpu_executor.cc:941] successful NUMA node read from SysFS had negative value (-1), but there must be at least one NUMA node, so returning NUMA node zero\n",
      "2022-04-08 19:47:59.951185: I tensorflow/stream_executor/cuda/cuda_gpu_executor.cc:941] successful NUMA node read from SysFS had negative value (-1), but there must be at least one NUMA node, so returning NUMA node zero\n",
      "2022-04-08 19:47:59.951597: I tensorflow/core/common_runtime/gpu/gpu_device.cc:1862] Adding visible gpu devices: 0\n",
      "2022-04-08 19:47:59.951660: I tensorflow/stream_executor/platform/default/dso_loader.cc:49] Successfully opened dynamic library libcudart.so.11.0\n",
      "2022-04-08 19:48:00.322912: I tensorflow/core/common_runtime/gpu/gpu_device.cc:1261] Device interconnect StreamExecutor with strength 1 edge matrix:\n",
      "2022-04-08 19:48:00.322938: I tensorflow/core/common_runtime/gpu/gpu_device.cc:1267]      0 \n",
      "2022-04-08 19:48:00.322944: I tensorflow/core/common_runtime/gpu/gpu_device.cc:1280] 0:   N \n",
      "2022-04-08 19:48:00.323100: I tensorflow/stream_executor/cuda/cuda_gpu_executor.cc:941] successful NUMA node read from SysFS had negative value (-1), but there must be at least one NUMA node, so returning NUMA node zero\n",
      "2022-04-08 19:48:00.323472: I tensorflow/stream_executor/cuda/cuda_gpu_executor.cc:941] successful NUMA node read from SysFS had negative value (-1), but there must be at least one NUMA node, so returning NUMA node zero\n",
      "2022-04-08 19:48:00.323787: I tensorflow/stream_executor/cuda/cuda_gpu_executor.cc:941] successful NUMA node read from SysFS had negative value (-1), but there must be at least one NUMA node, so returning NUMA node zero\n",
      "2022-04-08 19:48:00.324075: I tensorflow/core/common_runtime/gpu/gpu_device.cc:1406] Created TensorFlow device (/job:localhost/replica:0/task:0/device:GPU:0 with 9864 MB memory) -> physical GPU (device: 0, name: NVIDIA GeForce GTX 1080 Ti, pci bus id: 0000:01:00.0, compute capability: 6.1)\n"
     ]
    },
    {
     "name": "stdout",
     "output_type": "stream",
     "text": [
      "Epoch 1/50\n",
      "WARNING:tensorflow:Model was constructed with shape (None, 10, 200) for input KerasTensor(type_spec=TensorSpec(shape=(None, 10, 200), dtype=tf.float32, name='lstm_input'), name='lstm_input', description=\"created by layer 'lstm_input'\"), but it was called on an input with incompatible shape (None, 20, 200).\n"
     ]
    },
    {
     "name": "stderr",
     "output_type": "stream",
     "text": [
      "2022-04-08 19:48:00.713568: I tensorflow/compiler/mlir/mlir_graph_optimization_pass.cc:116] None of the MLIR optimization passes are enabled (registered 2)\n",
      "2022-04-08 19:48:00.730195: I tensorflow/core/platform/profile_utils/cpu_utils.cc:112] CPU Frequency: 2899885000 Hz\n"
     ]
    },
    {
     "name": "stdout",
     "output_type": "stream",
     "text": [
      "WARNING:tensorflow:Model was constructed with shape (None, 10, 200) for input KerasTensor(type_spec=TensorSpec(shape=(None, 10, 200), dtype=tf.float32, name='lstm_input'), name='lstm_input', description=\"created by layer 'lstm_input'\"), but it was called on an input with incompatible shape (None, 20, 200).\n"
     ]
    },
    {
     "name": "stderr",
     "output_type": "stream",
     "text": [
      "2022-04-08 19:48:01.701889: I tensorflow/stream_executor/platform/default/dso_loader.cc:49] Successfully opened dynamic library libcublas.so.11\n",
      "2022-04-08 19:48:01.857940: I tensorflow/stream_executor/platform/default/dso_loader.cc:49] Successfully opened dynamic library libcublasLt.so.11\n",
      "2022-04-08 19:48:01.877912: I tensorflow/stream_executor/platform/default/dso_loader.cc:49] Successfully opened dynamic library libcudnn.so.8\n"
     ]
    },
    {
     "name": "stdout",
     "output_type": "stream",
     "text": [
      "369/369 [==============================] - 4s 5ms/step - loss: 3.6955 - accuracy: 0.1166\n",
      "Epoch 2/50\n",
      "369/369 [==============================] - 2s 5ms/step - loss: 2.6604 - accuracy: 0.3119\n",
      "Epoch 3/50\n",
      "369/369 [==============================] - 2s 5ms/step - loss: 2.3535 - accuracy: 0.3723\n",
      "Epoch 4/50\n",
      "369/369 [==============================] - 2s 5ms/step - loss: 2.2170 - accuracy: 0.3980\n",
      "Epoch 5/50\n",
      "369/369 [==============================] - 2s 5ms/step - loss: 2.0961 - accuracy: 0.4254\n",
      "Epoch 6/50\n",
      "369/369 [==============================] - 2s 5ms/step - loss: 2.0150 - accuracy: 0.4315\n",
      "Epoch 7/50\n",
      "369/369 [==============================] - 2s 5ms/step - loss: 1.9266 - accuracy: 0.4476\n",
      "Epoch 8/50\n",
      "369/369 [==============================] - 2s 5ms/step - loss: 1.8476 - accuracy: 0.4593\n",
      "Epoch 9/50\n",
      "369/369 [==============================] - 2s 5ms/step - loss: 1.7532 - accuracy: 0.4860\n",
      "Epoch 10/50\n",
      "369/369 [==============================] - 2s 5ms/step - loss: 1.6342 - accuracy: 0.5093\n",
      "Epoch 11/50\n",
      "369/369 [==============================] - 2s 5ms/step - loss: 1.5151 - accuracy: 0.5397\n",
      "Epoch 12/50\n",
      "369/369 [==============================] - 2s 5ms/step - loss: 1.3251 - accuracy: 0.5869\n",
      "Epoch 13/50\n",
      "369/369 [==============================] - 2s 5ms/step - loss: 1.1235 - accuracy: 0.6446\n",
      "Epoch 14/50\n",
      "369/369 [==============================] - 2s 5ms/step - loss: 0.9206 - accuracy: 0.7068\n",
      "Epoch 15/50\n",
      "369/369 [==============================] - 2s 5ms/step - loss: 0.6846 - accuracy: 0.7854\n",
      "Epoch 16/50\n",
      "369/369 [==============================] - 2s 5ms/step - loss: 0.4899 - accuracy: 0.8481\n",
      "Epoch 17/50\n",
      "369/369 [==============================] - 2s 5ms/step - loss: 0.3386 - accuracy: 0.8981\n",
      "Epoch 18/50\n",
      "369/369 [==============================] - 2s 5ms/step - loss: 0.2217 - accuracy: 0.9422\n",
      "Epoch 19/50\n",
      "369/369 [==============================] - 2s 5ms/step - loss: 0.1552 - accuracy: 0.9620\n",
      "Epoch 20/50\n",
      "369/369 [==============================] - 2s 5ms/step - loss: 0.1196 - accuracy: 0.9695\n",
      "Epoch 21/50\n",
      "369/369 [==============================] - 2s 5ms/step - loss: 0.1147 - accuracy: 0.9714\n",
      "Epoch 22/50\n",
      "369/369 [==============================] - 2s 5ms/step - loss: 0.1000 - accuracy: 0.9743\n",
      "Epoch 23/50\n",
      "369/369 [==============================] - 2s 5ms/step - loss: 0.0832 - accuracy: 0.9789\n",
      "Epoch 24/50\n",
      "369/369 [==============================] - 2s 5ms/step - loss: 0.0859 - accuracy: 0.9767\n",
      "Epoch 25/50\n",
      "369/369 [==============================] - 2s 5ms/step - loss: 0.1021 - accuracy: 0.9726\n",
      "Epoch 26/50\n",
      "369/369 [==============================] - 2s 5ms/step - loss: 0.0705 - accuracy: 0.9831\n",
      "Epoch 27/50\n",
      "369/369 [==============================] - 2s 5ms/step - loss: 0.0640 - accuracy: 0.9841\n",
      "Epoch 28/50\n",
      "369/369 [==============================] - 2s 5ms/step - loss: 0.0639 - accuracy: 0.9828\n",
      "Epoch 29/50\n",
      "369/369 [==============================] - 2s 5ms/step - loss: 0.0621 - accuracy: 0.9815\n",
      "Epoch 30/50\n",
      "369/369 [==============================] - 2s 5ms/step - loss: 0.0823 - accuracy: 0.9753\n",
      "Epoch 31/50\n",
      "369/369 [==============================] - 2s 5ms/step - loss: 0.0636 - accuracy: 0.9836\n",
      "Epoch 32/50\n",
      "369/369 [==============================] - 2s 5ms/step - loss: 0.0545 - accuracy: 0.9857\n",
      "Epoch 33/50\n",
      "369/369 [==============================] - 2s 5ms/step - loss: 0.0733 - accuracy: 0.9799\n",
      "Epoch 34/50\n",
      "369/369 [==============================] - 2s 5ms/step - loss: 0.0497 - accuracy: 0.9864\n",
      "Epoch 35/50\n",
      "369/369 [==============================] - 2s 5ms/step - loss: 0.0469 - accuracy: 0.9881\n",
      "Epoch 36/50\n",
      "369/369 [==============================] - 2s 5ms/step - loss: 0.0428 - accuracy: 0.9892\n",
      "Epoch 37/50\n",
      "369/369 [==============================] - 2s 5ms/step - loss: 0.0445 - accuracy: 0.9876\n",
      "Epoch 38/50\n",
      "369/369 [==============================] - 2s 5ms/step - loss: 0.0497 - accuracy: 0.9860\n",
      "Epoch 39/50\n",
      "369/369 [==============================] - 2s 5ms/step - loss: 0.0412 - accuracy: 0.9894\n",
      "Epoch 40/50\n",
      "369/369 [==============================] - 2s 5ms/step - loss: 0.0555 - accuracy: 0.9852\n",
      "Epoch 41/50\n",
      "369/369 [==============================] - 2s 5ms/step - loss: 0.0517 - accuracy: 0.9838\n",
      "Epoch 42/50\n",
      "369/369 [==============================] - 2s 5ms/step - loss: 0.0422 - accuracy: 0.9879\n",
      "Epoch 43/50\n",
      "369/369 [==============================] - 2s 5ms/step - loss: 0.0456 - accuracy: 0.9884\n",
      "Epoch 44/50\n",
      "369/369 [==============================] - 2s 5ms/step - loss: 0.0267 - accuracy: 0.9931\n",
      "Epoch 45/50\n",
      "369/369 [==============================] - 2s 5ms/step - loss: 0.0424 - accuracy: 0.9885\n",
      "Epoch 46/50\n",
      "369/369 [==============================] - 2s 5ms/step - loss: 0.0478 - accuracy: 0.9859\n",
      "Epoch 47/50\n",
      "369/369 [==============================] - 2s 5ms/step - loss: 0.0486 - accuracy: 0.9870\n",
      "Epoch 48/50\n",
      "369/369 [==============================] - 2s 6ms/step - loss: 0.0400 - accuracy: 0.9879\n",
      "Epoch 49/50\n",
      "369/369 [==============================] - 2s 5ms/step - loss: 0.0314 - accuracy: 0.9912\n",
      "Epoch 50/50\n",
      "369/369 [==============================] - 2s 5ms/step - loss: 0.0406 - accuracy: 0.9890\n"
     ]
    },
    {
     "data": {
      "image/png": "[encoded data removed]",
      "text/plain": [
       "<Figure size 1080x288 with 1 Axes>"
      ]
     },
     "metadata": {},
     "output_type": "display_data"
    }
   ],
   "source": [
    "model = LoFiLoopNet()\n",
    "model.train(x_train, y_train)\n",
    "model.plot()"
   ]
  },
  {
   "cell_type": "code",
   "execution_count": 121,
   "metadata": {},
   "outputs": [
    {
     "name": "stdout",
     "output_type": "stream",
     "text": [
      "(1, 20, 200)\n",
      "(60, 200)\n",
      "(1440, 128)\n"
     ]
    }
   ],
   "source": [
    "# Generate a midi song using trained model.\n",
    "\n",
    "# TODO: Rewrite it to read params from yaml.\n",
    "def midi_generator(model, midi_path):\n",
    "\n",
    "    # Save a midi generated from the model to disk\n",
    "\n",
    "    bpm = 120\n",
    "    length = 20 # sec\n",
    "\n",
    "    beats = bpm//60*length\n",
    "\n",
    "    pick = random.randint(0, len(midi_path_list))\n",
    "    midi = pypianoroll.read(midi_path_list[pick], resolution=RESOLUTION)\n",
    "    # midi = pypianoroll.read('dummy_input.mid', resolution=RESOLUTION)\n",
    "    \n",
    "    # TODO: Optimize the structure.\n",
    "    encoded_dataset = [[], [], [], []]\n",
    "\n",
    "    bin_midi = midi.binarize()\n",
    "    encoded_tracks = []\n",
    "    for index, track in enumerate(bin_midi.tracks):\n",
    "        pr = track.pianoroll.astype('int')\n",
    "        encoded_pianorolls = []\n",
    "        for i in range(0, len(pr)//RESOLUTION-1):\n",
    "            encoded_pianorolls.append(beat_encode(pr[RESOLUTION*i:RESOLUTION*(i+1)]))\n",
    "        \n",
    "        # NOTE: Add a padding beat\n",
    "        encoded_pianorolls.append(padding_value)\n",
    "\n",
    "        encoded_dataset[index] += encoded_pianorolls\n",
    "        \n",
    "        encoded_tracks.append(encoded_pianorolls)\n",
    "\n",
    "    encoded_tracks = np.array(encoded_tracks)\n",
    "\n",
    "    input_seed = encoded_tracks[0, :data_size]\n",
    "    \n",
    "    for i in range(len(input_seed)):\n",
    "        input_seed[i] = word_index[input_seed[i]]\n",
    "    \n",
    "\n",
    "    input_seed = to_categorical(input_seed, num_classes=VOCAB_SIZE)\n",
    "    # input_seed = np.array(input_seed).reshape(1, input_seed.shape[0], input_seed.shape[1])\n",
    "    midi_sequence = input_seed.copy()\n",
    "    input_seed = np.expand_dims(input_seed, axis=0)\n",
    "    print(input_seed.shape)\n",
    "\n",
    "    \n",
    "    for _ in range(beats):\n",
    "        next_beat = model.predict(input_seed, verbose=0)\n",
    "        next_beat = np.argmax(next_beat) \n",
    "        next_beat = to_categorical(next_beat, num_classes=VOCAB_SIZE)\n",
    "        next_beat = np.array(next_beat).reshape(1, next_beat.shape[0])\n",
    "\n",
    "        midi_sequence = np.append(midi_sequence, next_beat, axis=0)\n",
    "\n",
    "        input_seed = np.append(input_seed[0], next_beat, axis=0)\n",
    "        input_seed = input_seed[1:, :]\n",
    "        input_seed = np.expand_dims(input_seed, axis=0)\n",
    "\n",
    "    print(midi_sequence.shape)\n",
    "\n",
    "    pianoroll_sequence = []\n",
    "    for index, beat in enumerate(midi_sequence):\n",
    "        word_val = np.argmax(beat)\n",
    "        encoded_beat = get_key(word_index, word_val)\n",
    "        decoded_beat = beat_decode(encoded_beat)\n",
    "\n",
    "        pianoroll_sequence.append(decoded_beat)\n",
    "    \n",
    "    pianoroll_sequence = np.array(pianoroll_sequence)\n",
    "    pianoroll_sequence = pianoroll_sequence.reshape(pianoroll_sequence.shape[0]*pianoroll_sequence.shape[1], pianoroll_sequence.shape[2])\n",
    "    pianoroll_sequence = pianoroll_sequence * INTENSITY\n",
    "    print(pianoroll_sequence.shape)\n",
    "    \n",
    "    std_track = pypianoroll.StandardTrack(pianoroll=pianoroll_sequence)\n",
    "    output = pypianoroll.Multitrack(resolution=RESOLUTION, tracks=[std_track])\n",
    "    pypianoroll.write(midi_path, output)\n",
    "\n",
    "    \n",
    "midi_generator(model, f'experiment_datasize_{data_size}.mid')"
   ]
  }
 ],
 "metadata": {
  "interpreter": {
   "hash": "49df5ff4a6ba4bb9d2ddca8074f5634ee6d89cf9b3a0514151aa539bb156f8f7"
  },
  "kernelspec": {
   "display_name": "Python 3.8.12 ('ml')",
   "language": "python",
   "name": "python3"
  },
  "language_info": {
   "codemirror_mode": {
    "name": "ipython",
    "version": 3
   },
   "file_extension": ".py",
   "mimetype": "text/x-python",
   "name": "python",
   "nbconvert_exporter": "python",
   "pygments_lexer": "ipython3",
   "version": "3.8.12"
  },
  "orig_nbformat": 4
 },
 "nbformat": 4,
 "nbformat_minor": 2
}
