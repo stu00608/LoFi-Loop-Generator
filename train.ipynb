{
 "cells": [
  {
   "cell_type": "code",
   "execution_count": 1,
   "metadata": {},
   "outputs": [],
   "source": [
    "import os\n",
    "import pickle\n",
    "os.environ['TF_CPP_MIN_LOG_LEVEL'] = '1' \n",
    "import numpy as np\n",
    "from model import *\n",
    "from dataloader import *\n",
    "from tensorflow.keras.utils import to_categorical\n",
    "import tensorflow as tf\n",
    "\n",
    "config = yaml.safe_load(open('config.yaml', 'r'))"
   ]
  },
  {
   "cell_type": "code",
   "execution_count": 2,
   "metadata": {},
   "outputs": [],
   "source": [
    "dataset_path = \"data/loaded_dataset\"\n",
    "dataset = Dataset()\n",
    "sentences = None\n",
    "if os.path.exists(dataset_path):\n",
    "    with open(dataset_path, \"rb\") as f:\n",
    "        dataset = pickle.load(f)\n",
    "else:\n",
    "    dataset.load()\n",
    "    with open(dataset_path, \"wb\") as f:\n",
    "        pickle.dump(dataset, f)"
   ]
  },
  {
   "cell_type": "code",
   "execution_count": 3,
   "metadata": {},
   "outputs": [
    {
     "name": "stdout",
     "output_type": "stream",
     "text": [
      "(23674,)\n"
     ]
    }
   ],
   "source": [
    "myList = []\n",
    "track = 0\n",
    "for midi in dataset.encoded_data_list:\n",
    "    myList += midi[track].tolist()\n",
    "\n",
    "mySet = set(myList)\n",
    "vocab_size = len(mySet)\n",
    "print(np.array(myList).shape)\n",
    "\n",
    "beat2idx = {beat: i for i, beat in enumerate(mySet)}"
   ]
  },
  {
   "cell_type": "code",
   "execution_count": 4,
   "metadata": {},
   "outputs": [
    {
     "name": "stdout",
     "output_type": "stream",
     "text": [
      "23674\n",
      "<BatchDataset shapes: ((16, 256), (16, 256, 268)), types: (tf.int64, tf.float32)>\n"
     ]
    }
   ],
   "source": [
    "def __split_input_target(chunk):\n",
    "    global vocab_size\n",
    "    input_text = chunk[:-1]\n",
    "    target_text = tf.one_hot(chunk[1:], vocab_size)\n",
    "    return input_text, target_text\n",
    "\n",
    "idxOfBeat = np.array([beat2idx[beat] for beat in myList])\n",
    "print(len(idxOfBeat))\n",
    "tfDataset = tf.data.Dataset.from_tensor_slices(idxOfBeat)\n",
    "\n",
    "sequences = tfDataset.batch(256+1, drop_remainder=True)\n",
    "# o o o o o\n",
    "#  \\ \\ \\ \\ \\\n",
    "#   x x x x x\n",
    "ds = sequences.map(__split_input_target)\n",
    "ds = ds.shuffle(10000).batch(config['params']['batch_size'], drop_remainder=True)\n",
    "print(ds)"
   ]
  },
  {
   "cell_type": "code",
   "execution_count": null,
   "metadata": {},
   "outputs": [],
   "source": [
    "for d in ds:\n",
    "    print(d)"
   ]
  },
  {
   "cell_type": "code",
   "execution_count": 5,
   "metadata": {},
   "outputs": [
    {
     "name": "stdout",
     "output_type": "stream",
     "text": [
      "WARNING:tensorflow:Layer lstm will not use cuDNN kernel since it doesn't meet the cuDNN kernel criteria. It will use generic GPU kernel as fallback when running on GPU\n",
      "WARNING:tensorflow:Layer lstm_1 will not use cuDNN kernel since it doesn't meet the cuDNN kernel criteria. It will use generic GPU kernel as fallback when running on GPU\n",
      "WARNING:tensorflow:Layer lstm_2 will not use cuDNN kernel since it doesn't meet the cuDNN kernel criteria. It will use generic GPU kernel as fallback when running on GPU\n",
      "WARNING:tensorflow:Layer lstm_3 will not use cuDNN kernel since it doesn't meet the cuDNN kernel criteria. It will use generic GPU kernel as fallback when running on GPU\n",
      "Model: \"sequential\"\n",
      "_________________________________________________________________\n",
      "Layer (type)                 Output Shape              Param #   \n",
      "=================================================================\n",
      "embedding (Embedding)        (16, None, 256)           68608     \n",
      "_________________________________________________________________\n",
      "lstm (LSTM)                  (16, None, 512)           1574912   \n",
      "_________________________________________________________________\n",
      "lstm_1 (LSTM)                (16, None, 512)           2099200   \n",
      "_________________________________________________________________\n",
      "lstm_2 (LSTM)                (16, None, 512)           2099200   \n",
      "_________________________________________________________________\n",
      "lstm_3 (LSTM)                (16, None, 512)           2099200   \n",
      "_________________________________________________________________\n",
      "dense (Dense)                (16, None, 268)           137484    \n",
      "=================================================================\n",
      "Total params: 8,078,604\n",
      "Trainable params: 8,078,604\n",
      "Non-trainable params: 0\n",
      "_________________________________________________________________\n"
     ]
    }
   ],
   "source": [
    "model = LoFiLoopNet('1to1-dev', vocab_size)\n",
    "model.summary()"
   ]
  },
  {
   "cell_type": "code",
   "execution_count": 6,
   "metadata": {},
   "outputs": [
    {
     "name": "stdout",
     "output_type": "stream",
     "text": [
      "❌ Wandb Disabled in config.\n",
      "Epoch 1/10\n"
     ]
    },
    {
     "ename": "",
     "evalue": "",
     "output_type": "error",
     "traceback": [
      "\u001b[1;31mThe Kernel crashed while executing code in the the current cell or a previous cell. Please review the code in the cell(s) to identify a possible cause of the failure. Click <a href='https://aka.ms/vscodeJupyterKernelCrash'>here</a> for more info. View Jupyter <a href='command:jupyter.viewOutput'>log</a> for further details."
     ]
    },
    {
     "ename": "",
     "evalue": "",
     "output_type": "error",
     "traceback": [
      "\u001b[1;31mCanceled future for execute_request message before replies were done"
     ]
    }
   ],
   "source": [
    "model.train(ds)"
   ]
  },
  {
   "cell_type": "code",
   "execution_count": null,
   "metadata": {},
   "outputs": [],
   "source": [
    "model.load_weights('models/model-1to1-dev-9923-0.1200-bigger.hdf5')\n",
    "\n",
    "loaded_model = model.model\n",
    "model.model.predict()"
   ]
  },
  {
   "cell_type": "markdown",
   "metadata": {},
   "source": [
    "### Old"
   ]
  },
  {
   "cell_type": "code",
   "execution_count": null,
   "metadata": {},
   "outputs": [],
   "source": [
    "sentences = dataset.getConcatenatedTracks()\n",
    "beatdict = BeatDictionary(sentences)\n",
    "beatdict.get_related_chords('56-0.5-0')"
   ]
  },
  {
   "cell_type": "code",
   "execution_count": null,
   "metadata": {},
   "outputs": [],
   "source": [
    "x_train, y_train = dataset.getSingleTrackTrainingData(track=0)\n",
    "\n",
    "x_train = np.array([beatdict.vectorize(beat.tolist()) for beat in x_train])\n",
    "\n",
    "y_train = beatdict.beat2index(y_train)\n",
    "y_train = to_categorical(y_train, num_classes=beatdict.getDictSize())\n",
    "\n",
    "print(x_train.shape, y_train.shape)"
   ]
  },
  {
   "cell_type": "code",
   "execution_count": null,
   "metadata": {},
   "outputs": [],
   "source": [
    "model = LoFiLoopNet(\"dev\", x_train.shape[1:], beatdict.getDictSize())\n",
    "model.summary()"
   ]
  },
  {
   "cell_type": "markdown",
   "metadata": {},
   "source": [
    "# Training"
   ]
  },
  {
   "cell_type": "code",
   "execution_count": null,
   "metadata": {},
   "outputs": [],
   "source": [
    "model.train(x_train, y_train)"
   ]
  },
  {
   "cell_type": "code",
   "execution_count": null,
   "metadata": {},
   "outputs": [],
   "source": [
    "sequence = model.generate(dataset, beatdict)\n",
    "new_midi = MidiData()\n",
    "new_midi.decode(sequence, filename='workflow_test4.mid')"
   ]
  },
  {
   "cell_type": "markdown",
   "metadata": {},
   "source": [
    "# Inference"
   ]
  },
  {
   "cell_type": "code",
   "execution_count": null,
   "metadata": {},
   "outputs": [],
   "source": [
    "model.load_weights(\"models/model-best.h5\")"
   ]
  },
  {
   "cell_type": "code",
   "execution_count": null,
   "metadata": {},
   "outputs": [],
   "source": [
    "sequence = model.generate(dataset, beatdict, topn=1)\n",
    "new_midi = MidiData()\n",
    "new_midi.decode(sequence, filename='exp.mid')"
   ]
  },
  {
   "cell_type": "code",
   "execution_count": null,
   "metadata": {},
   "outputs": [],
   "source": [
    "import matplotlib.pyplot as plt\n",
    "import random\n",
    "from tqdm import tqdm\n",
    "\n",
    "def predictAndPlot(beat, topn=1):\n",
    "    pred, pred_beat = model.predict(beatdict, beat)\n",
    "\n",
    "    topn = np.argsort(pred, axis=1)[:,-topn:][0]\n",
    "    topn = np.flip(topn, 0)\n",
    "\n",
    "    print(topn)\n",
    "\n",
    "    return topn\n",
    "\n",
    "    window = 2000\n",
    "    bound = [topn[0] - window, topn[0] + window]\n",
    "    bound = np.clip(bound, 0, len(beatdict.vector_dict))\n",
    "\n",
    "    print(bound)\n",
    "\n",
    "    title = ''\n",
    "    for index, candidate in enumerate(topn):\n",
    "        target = beatdict.vector_dict[candidate]\n",
    "        target_prob = round(float(pred[0, candidate]), 3)\n",
    "        title += f'({index+1}) [{candidate}] {target} : {target_prob} \\n'\n",
    "\n",
    "\n",
    "    f, ax = plt.subplots(1)\n",
    "    # ax.bar(range(bound[1]-bound[0]), pred[0, bound[0]:bound[1]])\n",
    "    ax.plot(range(bound[1]-bound[0]), pred[0, bound[0]:bound[1]])\n",
    "    ax.set_xlim(left=bound[0], right=bound[1])\n",
    "    plt.title(f\"{beat} -> {pred_beat} \\n {title}\")\n",
    "    plt.show(f)\n",
    "\n",
    "# pick = random.sample(beatdict.vector_dict, 1)[0]\n",
    "# predictAndPlot(pick, topn=5)\n",
    "\n",
    "top_candidate_for_each_beat = []\n",
    "for beat in tqdm(beatdict.vector_dict):\n",
    "    topn = predictAndPlot(beat)\n",
    "    top_candidate_for_each_beat.append(topn[0])\n",
    "\n",
    "plt.bar(range(len(beatdict.vector_dict)), top_candidate_for_each_beat)\n",
    "plt.show()\n",
    "\n"
   ]
  },
  {
   "cell_type": "code",
   "execution_count": null,
   "metadata": {},
   "outputs": [],
   "source": [
    "random.sample([10], 1)"
   ]
  },
  {
   "cell_type": "code",
   "execution_count": null,
   "metadata": {},
   "outputs": [],
   "source": []
  },
  {
   "cell_type": "code",
   "execution_count": null,
   "metadata": {},
   "outputs": [],
   "source": [
    "print(dataset.pitch_range_list)"
   ]
  },
  {
   "cell_type": "code",
   "execution_count": null,
   "metadata": {},
   "outputs": [],
   "source": [
    "model = LoFiLoopNet()\n",
    "model.train(x_train, y_train)\n",
    "model.plot()"
   ]
  },
  {
   "cell_type": "code",
   "execution_count": null,
   "metadata": {},
   "outputs": [],
   "source": [
    "model = LoFiLoopNet()\n",
    "model.load_last_weight()"
   ]
  },
  {
   "cell_type": "code",
   "execution_count": null,
   "metadata": {},
   "outputs": [],
   "source": [
    "model.generate(dataset)"
   ]
  }
 ],
 "metadata": {
  "kernelspec": {
   "display_name": "Python 3.8.12 ('ml')",
   "language": "python",
   "name": "python3"
  },
  "language_info": {
   "codemirror_mode": {
    "name": "ipython",
    "version": 3
   },
   "file_extension": ".py",
   "mimetype": "text/x-python",
   "name": "python",
   "nbconvert_exporter": "python",
   "pygments_lexer": "ipython3",
   "version": "3.8.12"
  },
  "orig_nbformat": 4,
  "vscode": {
   "interpreter": {
    "hash": "49df5ff4a6ba4bb9d2ddca8074f5634ee6d89cf9b3a0514151aa539bb156f8f7"
   }
  }
 },
 "nbformat": 4,
 "nbformat_minor": 2
}
